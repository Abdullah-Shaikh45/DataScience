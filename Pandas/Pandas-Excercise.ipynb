{
 "cells": [
  {
   "cell_type": "markdown",
   "id": "22d4845b",
   "metadata": {},
   "source": [
    "# Exercises\n",
    "\n",
    "- Make a Series of different foods.\n",
    "- Make a Series of different dollar values (these can be integers).\n",
    "- Combine your Series's of foods and dollar values into a DataFrame.\n",
    "\n",
    "\n",
    "Try it out for yourself first, then see how your code goes against the solution.\n",
    "\n",
    "Note: Make sure your two Series are the same size before combining them in a DataFrame."
   ]
  },
  {
   "cell_type": "code",
   "execution_count": 7,
   "id": "73d8f8b0",
   "metadata": {},
   "outputs": [],
   "source": [
    "import pandas as pd"
   ]
  },
  {
   "cell_type": "code",
   "execution_count": 16,
   "id": "f9ab6b0c",
   "metadata": {},
   "outputs": [
    {
     "data": {
      "text/html": [
       "<div>\n",
       "<style scoped>\n",
       "    .dataframe tbody tr th:only-of-type {\n",
       "        vertical-align: middle;\n",
       "    }\n",
       "\n",
       "    .dataframe tbody tr th {\n",
       "        vertical-align: top;\n",
       "    }\n",
       "\n",
       "    .dataframe thead th {\n",
       "        text-align: right;\n",
       "    }\n",
       "</style>\n",
       "<table border=\"1\" class=\"dataframe\">\n",
       "  <thead>\n",
       "    <tr style=\"text-align: right;\">\n",
       "      <th></th>\n",
       "      <th>Foods</th>\n",
       "      <th>Price $</th>\n",
       "    </tr>\n",
       "  </thead>\n",
       "  <tbody>\n",
       "    <tr>\n",
       "      <th>0</th>\n",
       "      <td>Apple</td>\n",
       "      <td>1</td>\n",
       "    </tr>\n",
       "    <tr>\n",
       "      <th>1</th>\n",
       "      <td>Mango</td>\n",
       "      <td>3</td>\n",
       "    </tr>\n",
       "    <tr>\n",
       "      <th>2</th>\n",
       "      <td>Banana</td>\n",
       "      <td>4</td>\n",
       "    </tr>\n",
       "  </tbody>\n",
       "</table>\n",
       "</div>"
      ],
      "text/plain": [
       "    Foods  Price $\n",
       "0   Apple        1\n",
       "1   Mango        3\n",
       "2  Banana        4"
      ]
     },
     "execution_count": 16,
     "metadata": {},
     "output_type": "execute_result"
    }
   ],
   "source": [
    "# Series of different foods\n",
    "\n",
    "foods = pd.Series([\"Apple\",\"Mango\",\"Banana\"])\n",
    "\n",
    "# Series of Dollar values\n",
    "\n",
    "Price = pd.Series([1,3,4])\n",
    "\n",
    "# DataFrame\n",
    "\n",
    "Bill = pd.DataFrame({\"Foods\" : foods, \"Price $\" : Price})\n",
    "Bill"
   ]
  },
  {
   "cell_type": "code",
   "execution_count": null,
   "id": "e0e4c223",
   "metadata": {},
   "outputs": [],
   "source": []
  }
 ],
 "metadata": {
  "kernelspec": {
   "display_name": "Python 3 (ipykernel)",
   "language": "python",
   "name": "python3"
  },
  "language_info": {
   "codemirror_mode": {
    "name": "ipython",
    "version": 3
   },
   "file_extension": ".py",
   "mimetype": "text/x-python",
   "name": "python",
   "nbconvert_exporter": "python",
   "pygments_lexer": "ipython3",
   "version": "3.10.6"
  }
 },
 "nbformat": 4,
 "nbformat_minor": 5
}
