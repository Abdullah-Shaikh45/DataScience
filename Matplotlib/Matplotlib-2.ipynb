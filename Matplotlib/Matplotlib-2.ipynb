{
 "cells": [
  {
   "cell_type": "code",
   "execution_count": 3,
   "id": "9aca3d9e-b863-4a5f-8663-d9749b010456",
   "metadata": {},
   "outputs": [],
   "source": [
    "import re"
   ]
  },
  {
   "cell_type": "code",
   "execution_count": 4,
   "id": "9d88fb95-f5b1-4e9a-bbe2-bba41d9800f6",
   "metadata": {},
   "outputs": [],
   "source": [
    "# re.search is used to search \n",
    "# Here we're searching for man and woman in the str\n",
    "# | - this symbol is called as pipe also known as OR\n",
    "find = re.search(r'man|woman','This man is here') # remainder: search only show the first occurence of the text"
   ]
  },
  {
   "cell_type": "code",
   "execution_count": 6,
   "id": "5a0435dd-4ce6-47d1-b163-911bbea23fae",
   "metadata": {},
   "outputs": [
    {
     "name": "stdout",
     "output_type": "stream",
     "text": [
      "<re.Match object; span=(5, 8), match='man'>\n"
     ]
    }
   ],
   "source": [
    "print(find) "
   ]
  },
  {
   "cell_type": "code",
   "execution_count": 15,
   "id": "2534aa53-6301-4a86-8f1b-9f4c972ec13a",
   "metadata": {},
   "outputs": [],
   "source": [
    "find_word = re.findall(r'man|woman','This man is here and also woman !') # findall: goes through everthing in the text"
   ]
  },
  {
   "cell_type": "code",
   "execution_count": 16,
   "id": "c37f2cb3-dca8-4294-a06a-1833cf6b902a",
   "metadata": {},
   "outputs": [
    {
     "name": "stdout",
     "output_type": "stream",
     "text": [
      "['man', 'woman']\n"
     ]
    }
   ],
   "source": [
    "print(find_word)"
   ]
  },
  {
   "cell_type": "code",
   "execution_count": 17,
   "id": "8fe84ce8-b4df-4644-9655-cb82f4bff5cc",
   "metadata": {},
   "outputs": [
    {
     "data": {
      "text/plain": [
       "['at']"
      ]
     },
     "execution_count": 17,
     "metadata": {},
     "output_type": "execute_result"
    }
   ],
   "source": [
    "# wild card char\n",
    "re.findall(r'at','There is a bat in the text') "
   ]
  },
  {
   "cell_type": "code",
   "execution_count": 19,
   "id": "8e7b8680-4679-4c66-b37a-b9559fe57d32",
   "metadata": {},
   "outputs": [
    {
     "data": {
      "text/plain": [
       "['cat', 'rat', 'bat']"
      ]
     },
     "execution_count": 19,
     "metadata": {},
     "output_type": "execute_result"
    }
   ],
   "source": [
    "re.findall(r'.at','There was cat sitting on the rat and the owner hit her with bat') "
   ]
  },
  {
   "cell_type": "code",
   "execution_count": 22,
   "id": "b449b39b-4b3f-422c-b4b2-375c63ad500a",
   "metadata": {},
   "outputs": [
    {
     "data": {
      "text/plain": [
       "[' cat', ' rat', ' bat', 'Slat']"
      ]
     },
     "execution_count": 22,
     "metadata": {},
     "output_type": "execute_result"
    }
   ],
   "source": [
    "re.findall(r'..at','There was cat sitting on the rat and the owner hit her with bat Slat') "
   ]
  },
  {
   "cell_type": "code",
   "execution_count": 23,
   "id": "5f92b838-6bda-4c95-9696-e15167341193",
   "metadata": {},
   "outputs": [
    {
     "data": {
      "text/plain": [
       "['2']"
      ]
     },
     "execution_count": 23,
     "metadata": {},
     "output_type": "execute_result"
    }
   ],
   "source": [
    "# Starts with and Ends With\n",
    "# We can use the ^ to signal starts with, and the $ to signal ends with\n",
    "re.findall(r'\\d$','This text endswith a number 2') # \\d - finds the no."
   ]
  },
  {
   "cell_type": "code",
   "execution_count": 26,
   "id": "d0ddc400-9ae2-446f-9e95-dbeebe3394c9",
   "metadata": {},
   "outputs": [
    {
     "data": {
      "text/plain": [
       "['5']"
      ]
     },
     "execution_count": 26,
     "metadata": {},
     "output_type": "execute_result"
    }
   ],
   "source": [
    "re.findall(r'^\\d','5 This text startswith a number ')"
   ]
  },
  {
   "cell_type": "code",
   "execution_count": 29,
   "id": "c18cf80d-101a-4d35-9374-6694ca49c7f2",
   "metadata": {},
   "outputs": [],
   "source": [
    "# Exclusion\n",
    "# To exclude characters, we can use the ^ symbol in conjunction with a set of brackets []. Anything inside the brackets is excluded. For example:\n",
    "phrase = \"there are 3 numbers 34 inside 5 this sentence.\""
   ]
  },
  {
   "cell_type": "code",
   "execution_count": 31,
   "id": "80899f6c-2fa6-40e5-a8d3-be4f0418656f",
   "metadata": {},
   "outputs": [
    {
     "data": {
      "text/plain": [
       "['t',\n",
       " 'h',\n",
       " 'e',\n",
       " 'r',\n",
       " 'e',\n",
       " ' ',\n",
       " 'a',\n",
       " 'r',\n",
       " 'e',\n",
       " ' ',\n",
       " ' ',\n",
       " 'n',\n",
       " 'u',\n",
       " 'm',\n",
       " 'b',\n",
       " 'e',\n",
       " 'r',\n",
       " 's',\n",
       " ' ',\n",
       " ' ',\n",
       " 'i',\n",
       " 'n',\n",
       " 's',\n",
       " 'i',\n",
       " 'd',\n",
       " 'e',\n",
       " ' ',\n",
       " ' ',\n",
       " 't',\n",
       " 'h',\n",
       " 'i',\n",
       " 's',\n",
       " ' ',\n",
       " 's',\n",
       " 'e',\n",
       " 'n',\n",
       " 't',\n",
       " 'e',\n",
       " 'n',\n",
       " 'c',\n",
       " 'e',\n",
       " '.']"
      ]
     },
     "execution_count": 31,
     "metadata": {},
     "output_type": "execute_result"
    }
   ],
   "source": [
    "re.findall(r'[^\\d]',phrase) # excludes all the number and returns"
   ]
  },
  {
   "cell_type": "code",
   "execution_count": 32,
   "id": "83365fde-4283-4a95-aa1b-c6cb598bcdfb",
   "metadata": {},
   "outputs": [
    {
     "data": {
      "text/plain": [
       "['there are ', ' numbers ', ' inside ', ' this sentence.']"
      ]
     },
     "execution_count": 32,
     "metadata": {},
     "output_type": "execute_result"
    }
   ],
   "source": [
    "re.findall(r'[^\\d]+',phrase) # + Occurs one or more times"
   ]
  },
  {
   "cell_type": "code",
   "execution_count": 33,
   "id": "d8fb8cb1-b4b9-4422-b3fd-d4c19e93c4f6",
   "metadata": {},
   "outputs": [],
   "source": [
    "test_phrase = 'This is a string! But it has punctuation. How can we remove it?'"
   ]
  },
  {
   "cell_type": "code",
   "execution_count": 35,
   "id": "f3181641-584e-486c-8dfd-d988d98ca3c8",
   "metadata": {},
   "outputs": [
    {
     "data": {
      "text/plain": [
       "['This is a string', ' But it has punctuation', ' How can we remove it']"
      ]
     },
     "execution_count": 35,
     "metadata": {},
     "output_type": "execute_result"
    }
   ],
   "source": [
    "re.findall(r'[^!.?]+',test_phrase)"
   ]
  },
  {
   "cell_type": "code",
   "execution_count": 38,
   "id": "1974029b-151b-4c8f-9522-d583856d301a",
   "metadata": {},
   "outputs": [],
   "source": [
    "clean = ' '.join(re.findall(r'[^!.?]+',test_phrase))"
   ]
  },
  {
   "cell_type": "code",
   "execution_count": 39,
   "id": "7fe176a4-c114-4469-97b0-f95b56229823",
   "metadata": {},
   "outputs": [
    {
     "name": "stdout",
     "output_type": "stream",
     "text": [
      "This is a string  But it has punctuation  How can we remove it\n"
     ]
    }
   ],
   "source": [
    "print(clean)"
   ]
  },
  {
   "cell_type": "code",
   "execution_count": 43,
   "id": "b413376b-a044-49f0-b266-99eefe513e10",
   "metadata": {},
   "outputs": [],
   "source": [
    "# find - char words\n",
    "text = 'Only find the hypen-words in this sentence. But you do not know how long-ish they are'"
   ]
  },
  {
   "cell_type": "code",
   "execution_count": 44,
   "id": "68fbf1a2-7425-4f0f-af34-6facaf606b02",
   "metadata": {},
   "outputs": [
    {
     "data": {
      "text/plain": [
       "['hypen-words', 'long-ish']"
      ]
     },
     "execution_count": 44,
     "metadata": {},
     "output_type": "execute_result"
    }
   ],
   "source": [
    "re.findall(r'[\\w]+-[\\w]+',text) # (\\w - alpha-numeric '-')"
   ]
  },
  {
   "cell_type": "code",
   "execution_count": 58,
   "id": "5733d91b-9d4f-43a4-9fed-28c51fb2bed9",
   "metadata": {},
   "outputs": [
    {
     "data": {
      "text/plain": [
       "['fish']"
      ]
     },
     "execution_count": 58,
     "metadata": {},
     "output_type": "execute_result"
    }
   ],
   "source": [
    "# Find words that start with cat and end with one of these options: 'fish','nap', or 'claw'\n",
    "text = 'Hello, would you like some catfish?'\n",
    "texttwo = \"Hello, would you like to take a catnap?\"\n",
    "textthree = \"Hello, have you seen this caterpillar?\"\n",
    "\n",
    "re.findall(r'cat(fish|nap|claw)',text)"
   ]
  },
  {
   "cell_type": "code",
   "execution_count": 59,
   "id": "80ee555e-43ae-43be-a7e4-85266ba2ae9d",
   "metadata": {},
   "outputs": [
    {
     "data": {
      "text/plain": [
       "<re.Match object; span=(32, 38), match='catnap'>"
      ]
     },
     "execution_count": 59,
     "metadata": {},
     "output_type": "execute_result"
    }
   ],
   "source": [
    "re.search(r'cat(fist|nap|claw)',texttwo)"
   ]
  },
  {
   "cell_type": "code",
   "execution_count": 61,
   "id": "ede71d7a-20a1-4e4b-ad4a-060cf24450b1",
   "metadata": {},
   "outputs": [],
   "source": [
    "re.search(r'cat(fish|nap|claw)',textthree)"
   ]
  },
  {
   "cell_type": "code",
   "execution_count": 66,
   "id": "39b5c2fd-d52c-41f9-898f-4a83dc93edde",
   "metadata": {},
   "outputs": [
    {
     "data": {
      "text/plain": [
       "<re.Match object; span=(26, 37), match='caterpillar'>"
      ]
     },
     "execution_count": 66,
     "metadata": {},
     "output_type": "execute_result"
    }
   ],
   "source": [
    "re.search(r'cat(fish|nap|erpillar)',textthree)"
   ]
  },
  {
   "cell_type": "code",
   "execution_count": null,
   "id": "2b097dd2-86a5-4935-ab6d-c61a87487bc7",
   "metadata": {},
   "outputs": [],
   "source": []
  }
 ],
 "metadata": {
  "kernelspec": {
   "display_name": "Python 3 (ipykernel)",
   "language": "python",
   "name": "python3"
  },
  "language_info": {
   "codemirror_mode": {
    "name": "ipython",
    "version": 3
   },
   "file_extension": ".py",
   "mimetype": "text/x-python",
   "name": "python",
   "nbconvert_exporter": "python",
   "pygments_lexer": "ipython3",
   "version": "3.9.12"
  }
 },
 "nbformat": 4,
 "nbformat_minor": 5
}
